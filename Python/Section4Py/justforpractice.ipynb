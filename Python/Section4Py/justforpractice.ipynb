{
 "cells": [
  {
   "cell_type": "code",
   "execution_count": 9,
   "id": "9e815a2d",
   "metadata": {},
   "outputs": [
    {
     "name": "stdout",
     "output_type": "stream",
     "text": [
      "pallindrome\n"
     ]
    }
   ],
   "source": [
    "def is_pallindrome(s):\n",
    "    return s == s[::-1]\n",
    "\n",
    "if __name__ ==\"__main__\":\n",
    "    s = \"madam\"\n",
    "    # \n",
    "    if(is_pallindrome(s)):\n",
    "        print(\"pallindrome\")\n",
    "    else:\n",
    "        print(\"Not a pallindrome\")"
   ]
  },
  {
   "cell_type": "code",
   "execution_count": 11,
   "id": "b327bd30",
   "metadata": {},
   "outputs": [
    {
     "name": "stdout",
     "output_type": "stream",
     "text": [
      "True\n"
     ]
    }
   ],
   "source": [
    "def is_anagram(a, b):\n",
    "    return sorted(a) == sorted(b)\n",
    "\n",
    "if __name__ == \"__main__\":\n",
    "    print(is_anagram(\"listen\", \"silent\"))"
   ]
  },
  {
   "cell_type": "code",
   "execution_count": 1,
   "id": "2e50b9bc",
   "metadata": {},
   "outputs": [
    {
     "name": "stdout",
     "output_type": "stream",
     "text": [
      "True\n"
     ]
    }
   ],
   "source": [
    "def anagram_is(a,b):\n",
    "    return sorted(a) == sorted(b)\n",
    "if __name__ == \"__main__\":\n",
    "    print(anagram_is(\"hello\",\"ehllo\"))"
   ]
  },
  {
   "cell_type": "code",
   "execution_count": 2,
   "id": "3fecfe0a",
   "metadata": {},
   "outputs": [
    {
     "name": "stdout",
     "output_type": "stream",
     "text": [
      "reverse of word is olleh\n"
     ]
    }
   ],
   "source": [
    "def pallindrome_is (word):\n",
    "    return word[::-1]\n",
    "\n",
    "if __name__ == \"__main__\":\n",
    "    word = \"hello\"\n",
    "    print(f\"reverse of word is {pallindrome_is(word)}\")"
   ]
  },
  {
   "cell_type": "code",
   "execution_count": null,
   "id": "aa4e38d5",
   "metadata": {},
   "outputs": [],
   "source": []
  }
 ],
 "metadata": {
  "kernelspec": {
   "display_name": "Python 3",
   "language": "python",
   "name": "python3"
  },
  "language_info": {
   "codemirror_mode": {
    "name": "ipython",
    "version": 3
   },
   "file_extension": ".py",
   "mimetype": "text/x-python",
   "name": "python",
   "nbconvert_exporter": "python",
   "pygments_lexer": "ipython3",
   "version": "3.12.0"
  }
 },
 "nbformat": 4,
 "nbformat_minor": 5
}
