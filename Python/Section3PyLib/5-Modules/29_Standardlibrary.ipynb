{
 "cells": [
  {
   "cell_type": "markdown",
   "id": "21082610",
   "metadata": {},
   "source": [
    "### Standard library overview\n",
    "\n",
    "Python's Standard Library is a vast collection of modules and packages that come bundled with python, providing a wide range of functionalities out of the box. here's an overview of some most commonly used modules and packages in the python Standard Library."
   ]
  },
  {
   "cell_type": "code",
   "execution_count": 14,
   "id": "6b43587b",
   "metadata": {},
   "outputs": [
    {
     "name": "stdout",
     "output_type": "stream",
     "text": [
      "array('i', [1, 2, 3, 4])\n",
      "<class 'array.array'>\n"
     ]
    }
   ],
   "source": [
    "import array\n",
    "arr = array.array(\"i\",[1,2,3,4])\n",
    "print(arr)\n",
    "print(type(arr))"
   ]
  },
  {
   "cell_type": "code",
   "execution_count": 4,
   "id": "867ce0f3",
   "metadata": {},
   "outputs": [
    {
     "name": "stdout",
     "output_type": "stream",
     "text": [
      "4.0\n",
      "3.141592653589793\n"
     ]
    }
   ],
   "source": [
    "import math\n",
    "print(math.sqrt(16))\n",
    "print(math.pi)"
   ]
  },
  {
   "cell_type": "code",
   "execution_count": 2,
   "id": "0cd80d73",
   "metadata": {},
   "outputs": [
    {
     "name": "stdout",
     "output_type": "stream",
     "text": [
      "10\n",
      "cherry\n"
     ]
    }
   ],
   "source": [
    "# random\n",
    "\n",
    "import random\n",
    "print(random.randint(1,10))\n",
    "print(random.choice(['apple','banana','cherry']))"
   ]
  },
  {
   "cell_type": "code",
   "execution_count": 4,
   "id": "934f2037",
   "metadata": {},
   "outputs": [
    {
     "name": "stdout",
     "output_type": "stream",
     "text": [
      "c:\\Data Analyst\\Section3PyLib\n"
     ]
    }
   ],
   "source": [
    "### File and Directory Access\n",
    "\n",
    "import os\n",
    "print(os.getcwd())"
   ]
  },
  {
   "cell_type": "code",
   "execution_count": 5,
   "id": "322f3302",
   "metadata": {},
   "outputs": [],
   "source": [
    "os.mkdir('test_dir')"
   ]
  },
  {
   "cell_type": "code",
   "execution_count": null,
   "id": "5749085d",
   "metadata": {},
   "outputs": [
    {
     "name": "stdout",
     "output_type": "stream",
     "text": [
      "So i have learnt how to create a new file\n"
     ]
    }
   ],
   "source": [
    "fp=open('29example.txt','w')\n",
    "fp.write(\"So i have learnt how to create a new file\")\n",
    "fp.close()\n",
    "\n",
    "## read this file\n",
    "with open('29example.txt','r') as file:\n",
    "    new = file.read()\n",
    "    print(new)"
   ]
  },
  {
   "cell_type": "code",
   "execution_count": 18,
   "id": "815f5b80",
   "metadata": {},
   "outputs": [
    {
     "data": {
      "text/plain": [
       "'29destination.txt'"
      ]
     },
     "execution_count": 18,
     "metadata": {},
     "output_type": "execute_result"
    }
   ],
   "source": [
    "## High level operation on files and collection of files\n",
    "import shutil\n",
    "shutil.copyfile('29source.txt','29destination.txt')"
   ]
  },
  {
   "cell_type": "code",
   "execution_count": 24,
   "id": "0c61821e",
   "metadata": {},
   "outputs": [],
   "source": [
    "## Without shutil how to copy the files\n",
    "\n",
    "with open('29example.txt','r') as source_file:\n",
    "    content=source_file.read()\n",
    "\n",
    "with open('new29Destination.txt','w') as destination_files:\n",
    "    destination_files.write(content)\n",
    "    destination_files.write('\\nFrom now i have learnt to copy the files too')"
   ]
  },
  {
   "cell_type": "code",
   "execution_count": 25,
   "id": "364aa914",
   "metadata": {},
   "outputs": [
    {
     "name": "stdout",
     "output_type": "stream",
     "text": [
      "{\"name\": \"Aadi\", \"Age\": 23}\n",
      "<class 'str'>\n",
      "{'name': 'Aadi', 'Age': 23}\n",
      "<class 'dict'>\n"
     ]
    }
   ],
   "source": [
    "## Data Serialization\n",
    "import json\n",
    "data={'name':\"Aadi\",\"Age\":23}\n",
    "\n",
    "json_str=json.dumps(data)\n",
    "print(json_str)\n",
    "print(type(json_str))\n",
    "\n",
    "parsed_data = json.loads(json_str)\n",
    "print(parsed_data)\n",
    "print(type(parsed_data))"
   ]
  },
  {
   "cell_type": "code",
   "execution_count": 7,
   "id": "ea89335b",
   "metadata": {},
   "outputs": [
    {
     "name": "stdout",
     "output_type": "stream",
     "text": [
      "['name', 'age']\n",
      "['Aadi', '24']\n"
     ]
    }
   ],
   "source": [
    "## csv \n",
    "\n",
    "import csv\n",
    "\n",
    "with open('example.csv',mode='w',newline='')as file:\n",
    "    writer=csv.writer(file)\n",
    "    writer.writerow(['name','age'])\n",
    "    writer.writerow(['Aadi',24])\n",
    "\n",
    "with open('example.csv',mode='r') as file:\n",
    "    reader =csv.reader(file)\n",
    "    for row in reader:\n",
    "        print(row)"
   ]
  },
  {
   "cell_type": "code",
   "execution_count": 11,
   "id": "09daa23c",
   "metadata": {},
   "outputs": [
    {
     "name": "stdout",
     "output_type": "stream",
     "text": [
      "2025-05-16 14:24:53.469454\n",
      "2025-05-15 14:24:53.469454\n"
     ]
    }
   ],
   "source": [
    "## DateTime\n",
    " \n",
    "from datetime import datetime,timedelta\n",
    "\n",
    "now=datetime.now()\n",
    "print(now)\n",
    "\n",
    "yesterday = now-timedelta(days=1)\n",
    "print(yesterday)"
   ]
  },
  {
   "cell_type": "code",
   "execution_count": 12,
   "id": "62286b5d",
   "metadata": {},
   "outputs": [
    {
     "name": "stdout",
     "output_type": "stream",
     "text": [
      "1747385800.2813642\n",
      "1747385802.2824676\n"
     ]
    }
   ],
   "source": [
    "## time\n",
    "\n",
    "import time\n",
    "print(time.time())\n",
    "time.sleep(2)\n",
    "print(time.time())\n"
   ]
  },
  {
   "cell_type": "code",
   "execution_count": 5,
   "id": "3af21743",
   "metadata": {},
   "outputs": [
    {
     "name": "stdout",
     "output_type": "stream",
     "text": [
      "120\n"
     ]
    }
   ],
   "source": [
    "## regular expression\n",
    "\n",
    "import re\n",
    "\n",
    "pattern=r'\\d+'\n",
    "text = \"There are 120 men in the room\"\n",
    "match = re.search(pattern,text)\n",
    "print(match.group())"
   ]
  },
  {
   "cell_type": "code",
   "execution_count": null,
   "id": "4c1324cb",
   "metadata": {},
   "outputs": [],
   "source": []
  }
 ],
 "metadata": {
  "kernelspec": {
   "display_name": "Python 3",
   "language": "python",
   "name": "python3"
  },
  "language_info": {
   "codemirror_mode": {
    "name": "ipython",
    "version": 3
   },
   "file_extension": ".py",
   "mimetype": "text/x-python",
   "name": "python",
   "nbconvert_exporter": "python",
   "pygments_lexer": "ipython3",
   "version": "3.12.0"
  }
 },
 "nbformat": 4,
 "nbformat_minor": 5
}
