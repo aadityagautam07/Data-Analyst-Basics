{
 "cells": [
  {
   "cell_type": "code",
   "execution_count": 2,
   "id": "172cdd62",
   "metadata": {},
   "outputs": [
    {
     "name": "stdout",
     "output_type": "stream",
     "text": [
      "Current working directory is c:\\Data Analyst\\Section3PyLib\n"
     ]
    }
   ],
   "source": [
    "import os\n",
    "cwd = os.getcwd()\n",
    "print(f\"Current working directory is {cwd}\")"
   ]
  },
  {
   "cell_type": "code",
   "execution_count": null,
   "id": "c840413b",
   "metadata": {},
   "outputs": [
    {
     "name": "stdout",
     "output_type": "stream",
     "text": [
      "Drectory '31package created\n"
     ]
    }
   ],
   "source": [
    "## Create a new directory\n",
    "new_directory =\"31package\"\n",
    "os.mkdir(new_directory)\n",
    "print(f\"Directory '{new_directory} created\")"
   ]
  },
  {
   "cell_type": "code",
   "execution_count": null,
   "id": "131c9f01",
   "metadata": {},
   "outputs": [
    {
     "name": "stdout",
     "output_type": "stream",
     "text": [
      "['11_loops.ipynb', '12thCodingEx', '13_Lists.ipynb', '14thListcomprehensioncodingEx', '15_Tuples.ipynb', '17_Sets.ipynb', '19_Dictionaries.ipynb', '21_List_ex.ipynb', '22_function.ipynb', '24_Lambda.ipynb', '25_map.ipynb', '26_filter.ipynb', '28-modules', '29destination.txt', '29example.txt', '29source.txt', '29_Standardlibrary.ipynb', '30destination.txt', '30example.bin', '30example.txt', '30_FileOperation.ipynb', '31package', '31_filepath.ipynb', '7_datatypes.ipynb', '8_operators.ipynb', '9thCodingEx', '9_conditionalstatements.ipynb', 'example.csv', 'Raw.ipynb', 'test_dir']\n"
     ]
    }
   ],
   "source": [
    "# Listing Files and Directories\n",
    "items = os.listdir('.')\n",
    "print(items)\n"
   ]
  },
  {
   "cell_type": "code",
   "execution_count": 4,
   "id": "0c8b70d7",
   "metadata": {},
   "outputs": [
    {
     "name": "stdout",
     "output_type": "stream",
     "text": [
      "folder\\file.txt\n"
     ]
    }
   ],
   "source": [
    "### Joining Paths\n",
    "\n",
    "dir_name=\"folder\"\n",
    "file_name=\"file.txt\"\n",
    "full_path = os.path.join(dir_name,file_name)\n",
    "print(full_path)"
   ]
  },
  {
   "cell_type": "code",
   "execution_count": 29,
   "id": "ff37e189",
   "metadata": {},
   "outputs": [
    {
     "name": "stdout",
     "output_type": "stream",
     "text": [
      "c:\\Data Analyst\\Section3PyLib\\folder\\file.txt\n"
     ]
    }
   ],
   "source": [
    "dir_name=\"folder\"\n",
    "file_name=\"file.txt\"\n",
    "full_path = os.path.join(os.getcwd(),dir_name,file_name)\n",
    "print(full_path)"
   ]
  },
  {
   "cell_type": "code",
   "execution_count": 21,
   "id": "ada03ee3",
   "metadata": {},
   "outputs": [
    {
     "name": "stdout",
     "output_type": "stream",
     "text": [
      "The path 'example.txt' does not exists\n"
     ]
    }
   ],
   "source": [
    "path = \"example.txt\"\n",
    "\n",
    "if os.path.exists(path):\n",
    "    print(f\"The path '{path} exists\")\n",
    "else:\n",
    "    print(f\"The path '{path}' does not exists\")"
   ]
  },
  {
   "cell_type": "code",
   "execution_count": 27,
   "id": "b5e2079d",
   "metadata": {},
   "outputs": [
    {
     "name": "stdout",
     "output_type": "stream",
     "text": [
      "This path 31example.txt exists\n"
     ]
    }
   ],
   "source": [
    "## Checking whether file exists if not then create one\n",
    "\n",
    "path ='31example.txt'\n",
    "if os.path.exists(path):\n",
    "    print(f\"This path {path} exists\")\n",
    "else:\n",
    "    with open(\"31example.txt\",\"w\") as new:\n",
    "        new.write(\"Newly created\")\n",
    "        print(f\"This path {path} Does not exists So we created one\")"
   ]
  },
  {
   "cell_type": "code",
   "execution_count": 10,
   "id": "a2c60966",
   "metadata": {},
   "outputs": [
    {
     "name": "stdout",
     "output_type": "stream",
     "text": [
      "The path '30example.txt' is a file.\n"
     ]
    }
   ],
   "source": [
    "## Checking if a  path is a File or Directory\n",
    "\n",
    "import os\n",
    "path = \"30example.txt\"\n",
    "if os.path.isfile(path):\n",
    "    print(f\"The path '{path}' is a file.\")\n",
    "elif os.path.isdir(path):\n",
    "    print(f\"The path '{path}' is a directory\")\n",
    "else:\n",
    "    print(f\"The path '{path}' is neither a file nor directory.\")"
   ]
  },
  {
   "cell_type": "code",
   "execution_count": 12,
   "id": "c725a216",
   "metadata": {},
   "outputs": [
    {
     "name": "stdout",
     "output_type": "stream",
     "text": [
      "c:\\Data Analyst\\Section3PyLib\\30example.txt\n"
     ]
    }
   ],
   "source": [
    "## Getting the absolute path\n",
    "\n",
    "relative_path ='30example.txt'\n",
    "absolute_path = os.path.abspath(relative_path)\n",
    "print(absolute_path)"
   ]
  },
  {
   "cell_type": "code",
   "execution_count": null,
   "id": "bfe4023a",
   "metadata": {},
   "outputs": [],
   "source": []
  }
 ],
 "metadata": {
  "kernelspec": {
   "display_name": "Python 3",
   "language": "python",
   "name": "python3"
  },
  "language_info": {
   "codemirror_mode": {
    "name": "ipython",
    "version": 3
   },
   "file_extension": ".py",
   "mimetype": "text/x-python",
   "name": "python",
   "nbconvert_exporter": "python",
   "pygments_lexer": "ipython3",
   "version": "3.12.0"
  }
 },
 "nbformat": 4,
 "nbformat_minor": 5
}
