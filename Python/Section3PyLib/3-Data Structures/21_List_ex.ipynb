{
 "cells": [
  {
   "cell_type": "markdown",
   "id": "8547c6ce",
   "metadata": {},
   "source": [
    "Example 1. Manage A  To Do List\n",
    ". Crēate a to do list to keep track of tasks"
   ]
  },
  {
   "cell_type": "code",
   "execution_count": 1,
   "id": "d4da9ff6",
   "metadata": {},
   "outputs": [
    {
     "name": "stdout",
     "output_type": "stream",
     "text": [
      "Don't forgot to pay the bills\n",
      "To Do list remaining \n",
      "-Buy Groceries\n",
      "-Pay bills\n",
      "-Schedule Meeting\n",
      "-Go for a run\n"
     ]
    }
   ],
   "source": [
    "to_do_list=[\"Buy Groceries\",\"Clean the house\",\"Pay bills\"]\n",
    "\n",
    "## Adding a task\n",
    "to_do_list.append(\"Schedule Meeting\")\n",
    "to_do_list.append(\"Go for a run\")\n",
    "\n",
    "## Removing a completed task\n",
    "to_do_list.remove(\"Clean the house\")\n",
    "\n",
    "## checking if a task in the list\n",
    "if \"Pay bills\" in to_do_list:\n",
    "    print(\"Don't forgot to pay the bills\")\n",
    "\n",
    "print(\"To Do list remaining \")\n",
    "for task in to_do_list:\n",
    "    print(f\"-{task}\")"
   ]
  },
  {
   "cell_type": "markdown",
   "id": "59757345",
   "metadata": {},
   "source": [
    "Example 2: Oraganizing Stuednt Grades\n",
    "\n",
    ". create a list to store and calculate average grades for students"
   ]
  },
  {
   "cell_type": "code",
   "execution_count": 3,
   "id": "ff1b9d2d",
   "metadata": {},
   "outputs": [
    {
     "name": "stdout",
     "output_type": "stream",
     "text": [
      "Average Grade is: 79.33\n",
      "Highest Grade : 92\n",
      "Lowest Grade : 45\n"
     ]
    }
   ],
   "source": [
    "## oraganizing student grades\n",
    "grades =[45,92,78,90,88]\n",
    "\n",
    "## Adding a new grade\n",
    "grades.append(83)\n",
    "\n",
    "# calculating the average grade\n",
    "average_grade = sum(grades)/len(grades)\n",
    "print(f\"Average Grade is: {average_grade:.2f}\")\n",
    "\n",
    "# Finding the highest and lowest grades\n",
    "highest_grade = max(grades)\n",
    "lowest_grade = min(grades)\n",
    "print(f\"Highest Grade : {highest_grade}\")\n",
    "print(f\"Lowest Grade : {lowest_grade}\")"
   ]
  },
  {
   "cell_type": "code",
   "execution_count": null,
   "metadata": {},
   "outputs": [],
   "source": []
  },
  {
   "cell_type": "code",
   "execution_count": null,
   "id": "364e6c38",
   "metadata": {},
   "outputs": [],
   "source": []
  }
 ],
 "metadata": {
  "kernelspec": {
   "display_name": "Python 3",
   "language": "python",
   "name": "python3"
  },
  "language_info": {
   "codemirror_mode": {
    "name": "ipython",
    "version": 3
   },
   "file_extension": ".py",
   "mimetype": "text/x-python",
   "name": "python",
   "nbconvert_exporter": "python",
   "pygments_lexer": "ipython3",
   "version": "3.12.0"
  }
 },
 "nbformat": 4,
 "nbformat_minor": 5
}
