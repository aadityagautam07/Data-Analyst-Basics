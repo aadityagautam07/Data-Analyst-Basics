{
 "cells": [
  {
   "cell_type": "markdown",
   "id": "9505e799",
   "metadata": {},
   "source": [
    "### Introduction to function \n",
    "\n",
    "Defnition\n",
    "\n",
    "A function is a block of code that perform a specific task. Function help in organising code, reusing code and improving readibility."
   ]
  },
  {
   "cell_type": "code",
   "execution_count": 1,
   "id": "45b4afb6",
   "metadata": {},
   "outputs": [],
   "source": [
    "## syntax \n",
    "\n",
    "def function_name(parameters):\n",
    "    \"\"\"Docstring\"\"\"\n",
    "    # Function body\n",
    "    return expression"
   ]
  },
  {
   "cell_type": "code",
   "execution_count": 2,
   "id": "60ee7f58",
   "metadata": {},
   "outputs": [
    {
     "name": "stdout",
     "output_type": "stream",
     "text": [
      "the number is even\n"
     ]
    }
   ],
   "source": [
    "## why function\n",
    "num = 24 \n",
    "if num %2 == 0:\n",
    "    print(\"the number is even\")\n",
    "else:\n",
    "    print(\"the number is even\")"
   ]
  },
  {
   "cell_type": "code",
   "execution_count": 3,
   "id": "51c46cfd",
   "metadata": {},
   "outputs": [],
   "source": [
    "def even_or_odd(num):\n",
    "    \"\"\"This function finds even or odd\"\"\"\n",
    "    if num % 2 == 0:\n",
    "        print(\"the number is even\")\n",
    "    else:\n",
    "        print(\"the number is odd\")\n"
   ]
  },
  {
   "cell_type": "code",
   "execution_count": 4,
   "id": "aaf6ef4c",
   "metadata": {},
   "outputs": [
    {
     "name": "stdout",
     "output_type": "stream",
     "text": [
      "the number is even\n"
     ]
    }
   ],
   "source": [
    "## Call the function\n",
    "even_or_odd(24)"
   ]
  },
  {
   "cell_type": "code",
   "execution_count": 5,
   "id": "0cdbc606",
   "metadata": {},
   "outputs": [
    {
     "name": "stdout",
     "output_type": "stream",
     "text": [
      "6\n"
     ]
    }
   ],
   "source": [
    "## Function with multiple parameters\n",
    "\n",
    "def add(a,b):\n",
    "    return a+b\n",
    "\n",
    "result=add(2,4)\n",
    "print(result)"
   ]
  },
  {
   "cell_type": "code",
   "execution_count": 9,
   "id": "3fc75b3f",
   "metadata": {},
   "outputs": [
    {
     "name": "stdout",
     "output_type": "stream",
     "text": [
      "Hello Guest Welcome To the paradsie\n"
     ]
    }
   ],
   "source": [
    "## Default parameters\n",
    "\n",
    "def greet(name=\"Guest\"):\n",
    "    print(f\"Hello {name} Welcome To the paradsie\")\n",
    "\n",
    "greet()"
   ]
  },
  {
   "cell_type": "code",
   "execution_count": null,
   "id": "ef70d5ed",
   "metadata": {},
   "outputs": [],
   "source": [
    "### Variable Length Arguments\n",
    "## Positional and keywords arguments\n",
    "\n",
    "#def print_numbers(num1,num2,num3,num4)  #if we have multiple parameters\n",
    "\n",
    "## Positional Arguments\n",
    "def print_numbers(*args):\n",
    "    for numbers in args:\n",
    "        print(numbers)"
   ]
  },
  {
   "cell_type": "code",
   "execution_count": 13,
   "id": "51a921fd",
   "metadata": {},
   "outputs": [
    {
     "name": "stdout",
     "output_type": "stream",
     "text": [
      "1\n",
      "2\n",
      "3\n",
      "4\n",
      "5\n",
      "6\n",
      "Aadi\n"
     ]
    }
   ],
   "source": [
    "print_numbers(1,2,3,4,5,6,\"Aadi\")  ## set of parameters are Positional Arguments"
   ]
  },
  {
   "cell_type": "code",
   "execution_count": 22,
   "id": "8c84bdcd",
   "metadata": {},
   "outputs": [],
   "source": [
    "## Keywords Arguments\n",
    "\n",
    "# def print_details(**kwargs):    #all the value in key value pair\n",
    "#     for key,value in kwargs.items():\n",
    "#         print(f\"{key}:{value}\")"
   ]
  },
  {
   "cell_type": "code",
   "execution_count": 23,
   "id": "c455374c",
   "metadata": {},
   "outputs": [],
   "source": [
    "# print_details(name=\"Aadi\",age=23,country=\"India\")"
   ]
  },
  {
   "cell_type": "code",
   "execution_count": 24,
   "id": "713cecb4",
   "metadata": {},
   "outputs": [],
   "source": [
    "## Combining both Arguments\n",
    "\n",
    "def print_details(*args,**kwargs):\n",
    "    for val in args:\n",
    "        print(f\"Positional argument :{val}\")\n",
    "\n",
    "        for key,value in kwargs.items():\n",
    "            print(f\"{key}:{value}\")\n"
   ]
  },
  {
   "cell_type": "code",
   "execution_count": 25,
   "id": "3529a8e9",
   "metadata": {},
   "outputs": [
    {
     "name": "stdout",
     "output_type": "stream",
     "text": [
      "Positional argument :1\n",
      "name:Aadi\n",
      "age:23\n",
      "country:India\n",
      "Positional argument :2\n",
      "name:Aadi\n",
      "age:23\n",
      "country:India\n",
      "Positional argument :3\n",
      "name:Aadi\n",
      "age:23\n",
      "country:India\n",
      "Positional argument :Shivam\n",
      "name:Aadi\n",
      "age:23\n",
      "country:India\n"
     ]
    }
   ],
   "source": [
    "print_details(1,2,3,\"Shivam\",name=\"Aadi\",age=\"23\",country=\"India\")"
   ]
  },
  {
   "cell_type": "code",
   "execution_count": 26,
   "id": "dd4aad0e",
   "metadata": {},
   "outputs": [
    {
     "data": {
      "text/plain": [
       "12"
      ]
     },
     "execution_count": 26,
     "metadata": {},
     "output_type": "execute_result"
    }
   ],
   "source": [
    "## Return Statement\n",
    "def multiply(a,b):\n",
    "    return a*b\n",
    "\n",
    "multiply(3,4)"
   ]
  },
  {
   "cell_type": "code",
   "execution_count": null,
   "id": "53ff049b",
   "metadata": {},
   "outputs": [
    {
     "data": {
      "text/plain": [
       "(12, 3)"
      ]
     },
     "execution_count": 27,
     "metadata": {},
     "output_type": "execute_result"
    }
   ],
   "source": [
    "## Return parameters from a function\n",
    "def multiply(a,b):\n",
    "    return a*b,a\n",
    "\n",
    "multiply(3,4)"
   ]
  }
 ],
 "metadata": {
  "kernelspec": {
   "display_name": "Python 3",
   "language": "python",
   "name": "python3"
  },
  "language_info": {
   "codemirror_mode": {
    "name": "ipython",
    "version": 3
   },
   "file_extension": ".py",
   "mimetype": "text/x-python",
   "name": "python",
   "nbconvert_exporter": "python",
   "pygments_lexer": "ipython3",
   "version": "3.12.0"
  }
 },
 "nbformat": 4,
 "nbformat_minor": 5
}
