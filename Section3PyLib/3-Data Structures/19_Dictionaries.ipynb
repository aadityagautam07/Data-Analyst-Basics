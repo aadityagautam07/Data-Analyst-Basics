{
 "cells": [
  {
   "cell_type": "code",
   "execution_count": 1,
   "id": "dcd473b5",
   "metadata": {},
   "outputs": [
    {
     "name": "stdout",
     "output_type": "stream",
     "text": [
      "<class 'dict'>\n"
     ]
    }
   ],
   "source": [
    "## creating Dictionaries\n",
    "\n",
    "empty_dict = {}\n",
    "print(type(empty_dict))"
   ]
  },
  {
   "cell_type": "code",
   "execution_count": 3,
   "id": "c5d5be55",
   "metadata": {},
   "outputs": [
    {
     "data": {
      "text/plain": [
       "{}"
      ]
     },
     "execution_count": 3,
     "metadata": {},
     "output_type": "execute_result"
    }
   ],
   "source": [
    "empty_dict = dict()\n",
    "empty_dict"
   ]
  },
  {
   "cell_type": "code",
   "execution_count": 4,
   "id": "7706445b",
   "metadata": {},
   "outputs": [
    {
     "name": "stdout",
     "output_type": "stream",
     "text": [
      "{'name': 'Aaditya', 'age': 32, 'grade': 25}\n"
     ]
    }
   ],
   "source": [
    "student= {\"name\":\"Aaditya\",\"age\":32,\"grade\":25}\n",
    "print(student)"
   ]
  },
  {
   "cell_type": "code",
   "execution_count": 6,
   "id": "a9a841c1",
   "metadata": {},
   "outputs": [
    {
     "name": "stdout",
     "output_type": "stream",
     "text": [
      "{'name': 25, 'age': 32}\n"
     ]
    }
   ],
   "source": [
    "#Error\n",
    "student= {\"name\":\"Aaditya\",\"age\":32,\"name\":25}\n",
    "print(student)"
   ]
  },
  {
   "cell_type": "code",
   "execution_count": null,
   "id": "f72054a8",
   "metadata": {},
   "outputs": [
    {
     "name": "stdout",
     "output_type": "stream",
     "text": [
      "{'name': 'Aadi', 'age': 25, 'grade': 'A'}\n"
     ]
    }
   ],
   "source": [
    "student =  {\"name\" : \"Aadi\",\"age\" : 25,\"grade\" : \"A\"}\n",
    "print(student)\n"
   ]
  },
  {
   "cell_type": "code",
   "execution_count": 14,
   "id": "e3c12cf3",
   "metadata": {},
   "outputs": [
    {
     "name": "stdout",
     "output_type": "stream",
     "text": [
      "A\n",
      "25\n",
      "A\n",
      "None\n",
      "Not Available\n"
     ]
    }
   ],
   "source": [
    "## accessing dictionaries\n",
    "print(student[\"grade\"])\n",
    "print(student[\"age\"])\n",
    "\n",
    "\n",
    "## Accessing using get() method\n",
    "print(student.get(\"grade\"))\n",
    "print(student.get(\"last name\"))\n",
    "print(student.get(\"last_name\",\"Not Available\"))"
   ]
  },
  {
   "cell_type": "code",
   "execution_count": null,
   "id": "bd30e242",
   "metadata": {},
   "outputs": [
    {
     "name": "stdout",
     "output_type": "stream",
     "text": [
      "{'name': 'Aadi', 'age': 25, 'grade': 'A'}\n"
     ]
    }
   ],
   "source": [
    "## Modifying Dictionaries Elements\n",
    "## Dictionaries are mutable, so you can add, update or delete elements\n",
    "\n",
    "print(student)"
   ]
  },
  {
   "cell_type": "code",
   "execution_count": null,
   "id": "8718a893",
   "metadata": {},
   "outputs": [
    {
     "name": "stdout",
     "output_type": "stream",
     "text": [
      "{'name': 'Aadi', 'age': 23, 'grade': 'A', 'address': 'India'}\n",
      "{'name': 'Aadi', 'age': 23, 'grade': 'A', 'address': 'India'}\n"
     ]
    }
   ],
   "source": [
    "student[\"age\"] = 23  ## updated the value for the the \n",
    "print(student)\n",
    "student[\"address\"] = \"India\" ## added a new key and value\n",
    "print(student)"
   ]
  },
  {
   "cell_type": "code",
   "execution_count": 20,
   "id": "d2622eee",
   "metadata": {},
   "outputs": [
    {
     "name": "stdout",
     "output_type": "stream",
     "text": [
      "{'name': 'Aadi', 'age': 23, 'address': 'India'}\n"
     ]
    }
   ],
   "source": [
    "del student[\"grade\"] ## delete the key and value pair\n",
    "\n",
    "print(student)"
   ]
  },
  {
   "cell_type": "code",
   "execution_count": 25,
   "id": "a0f7c3ce",
   "metadata": {},
   "outputs": [
    {
     "name": "stdout",
     "output_type": "stream",
     "text": [
      "dict_keys(['name', 'age', 'address'])\n",
      "dict_values(['Aadi', 23, 'India'])\n",
      "dict_items([('name', 'Aadi'), ('age', 23), ('address', 'India')])\n"
     ]
    }
   ],
   "source": [
    "## common dictionary methods\n",
    "\n",
    "keys= student.keys() ## get all the keys\n",
    "print(keys)\n",
    "values= student.values() ## get all the values\n",
    "print(values)\n",
    "\n",
    "items = student.items()  ##get all the key value pairs\n",
    "print(items)"
   ]
  },
  {
   "cell_type": "code",
   "execution_count": 28,
   "id": "5d023eaa",
   "metadata": {},
   "outputs": [
    {
     "name": "stdout",
     "output_type": "stream",
     "text": [
      "{'name': 'Aadi', 'age': 23, 'address': 'India'}\n",
      "{'name': 'Aadi', 'age': 23, 'address': 'India'}\n"
     ]
    }
   ],
   "source": [
    "## shallow copy\n",
    "student_copy = student\n",
    "print(student)\n",
    "print(student_copy)"
   ]
  },
  {
   "cell_type": "code",
   "execution_count": 30,
   "id": "3a896569",
   "metadata": {},
   "outputs": [
    {
     "name": "stdout",
     "output_type": "stream",
     "text": [
      "{'name': 'Shivam', 'age': 23, 'address': 'India'}\n",
      "{'name': 'Shivam', 'age': 23, 'address': 'India'}\n"
     ]
    }
   ],
   "source": [
    "student[\"name\"]=\"Shivam\"\n",
    "print(student)\n",
    "print(student_copy)"
   ]
  },
  {
   "cell_type": "code",
   "execution_count": 32,
   "id": "c9693ee9",
   "metadata": {},
   "outputs": [
    {
     "name": "stdout",
     "output_type": "stream",
     "text": [
      "{'name': 'Shivam', 'age': 23, 'address': 'India'}\n",
      "{'name': 'Shivam', 'age': 23, 'address': 'India'}\n"
     ]
    }
   ],
   "source": [
    "student_copy1= student.copy() ## shallow copy\n",
    "print(student_copy1)\n",
    "print(student)"
   ]
  },
  {
   "cell_type": "code",
   "execution_count": 33,
   "id": "38d0c3c2",
   "metadata": {},
   "outputs": [
    {
     "name": "stdout",
     "output_type": "stream",
     "text": [
      "{'name': 'Shivam', 'age': 23, 'address': 'India'}\n",
      "{'name': 'Aaditya', 'age': 23, 'address': 'India'}\n"
     ]
    }
   ],
   "source": [
    "student[\"name\"] =\"Aaditya\"\n",
    "print(student_copy1)\n",
    "print(student)"
   ]
  },
  {
   "cell_type": "code",
   "execution_count": 34,
   "id": "47d4fc9f",
   "metadata": {},
   "outputs": [
    {
     "name": "stdout",
     "output_type": "stream",
     "text": [
      "name\n",
      "age\n",
      "address\n"
     ]
    }
   ],
   "source": [
    "## iterating over dictionaries\n",
    "## You can use loops to iterate over dictionaries,keys,values or items\n",
    "\n",
    "## Iterating over keys\n",
    "for keys in student.keys():\n",
    "    print(keys)"
   ]
  },
  {
   "cell_type": "code",
   "execution_count": 37,
   "id": "d30878d9",
   "metadata": {},
   "outputs": [
    {
     "name": "stdout",
     "output_type": "stream",
     "text": [
      "Aaditya\n",
      "23\n",
      "India\n"
     ]
    }
   ],
   "source": [
    "## Iterate over values\n",
    "\n",
    "for value in student.values():\n",
    "    print(value)"
   ]
  },
  {
   "cell_type": "code",
   "execution_count": 39,
   "id": "4cc6c28a",
   "metadata": {},
   "outputs": [
    {
     "name": "stdout",
     "output_type": "stream",
     "text": [
      "name:Aaditya\n",
      "age:23\n",
      "address:India\n"
     ]
    }
   ],
   "source": [
    "## Iterate over key value pairs\n",
    "\n",
    "for key,value in student.items():\n",
    "    print(f\"{key}:{value}\")"
   ]
  },
  {
   "cell_type": "code",
   "execution_count": 41,
   "id": "b5fb44a9",
   "metadata": {},
   "outputs": [
    {
     "name": "stdout",
     "output_type": "stream",
     "text": [
      "{'Student1': {'name': 'Aadi', 'Age': 24}, 'Student2': {'name': 'Shivam', 'Age': 23}}\n"
     ]
    }
   ],
   "source": [
    "## Nested Dictionaries\n",
    "\n",
    "students = {\n",
    "    \"Student1\" :{\"name\":\"Aadi\",\"Age\":24},\n",
    "    \"Student2\" :{\"name\":\"Shivam\",\"Age\":23}\n",
    "}\n",
    "print(students)\n"
   ]
  },
  {
   "cell_type": "code",
   "execution_count": 45,
   "id": "60de0821",
   "metadata": {},
   "outputs": [
    {
     "name": "stdout",
     "output_type": "stream",
     "text": [
      "Shivam\n",
      "23\n"
     ]
    }
   ],
   "source": [
    "## Accessing nested dictionaries elements\n",
    "\n",
    "print(students[\"Student2\"][\"name\"])\n",
    "print(students[\"Student2\"][\"Age\"])"
   ]
  },
  {
   "cell_type": "code",
   "execution_count": 49,
   "id": "060b7a38",
   "metadata": {},
   "outputs": [
    {
     "name": "stdout",
     "output_type": "stream",
     "text": [
      "Student1:{'name': 'Aadi', 'Age': 24}\n",
      "name:Aadi\n",
      "Age:24\n",
      "Student2:{'name': 'Shivam', 'Age': 23}\n",
      "name:Shivam\n",
      "Age:23\n"
     ]
    }
   ],
   "source": [
    "## Iterating over nested dictionaries\n",
    "for student_id,student_info in students.items():\n",
    "    print(f\"{student_id}:{student_info}\")\n",
    "    for key,value in student_info.items():\n",
    "        print(f\"{key}:{value}\")"
   ]
  },
  {
   "cell_type": "code",
   "execution_count": 1,
   "id": "feaa843f",
   "metadata": {},
   "outputs": [
    {
     "name": "stdout",
     "output_type": "stream",
     "text": [
      "{0: 0, 1: 1, 2: 4, 3: 9, 4: 16}\n"
     ]
    }
   ],
   "source": [
    "## Dictionary comprehension\n",
    "squares={x:x**2 for x in range(5)}\n",
    "print(squares)"
   ]
  },
  {
   "cell_type": "code",
   "execution_count": 3,
   "id": "49fa5173",
   "metadata": {},
   "outputs": [
    {
     "name": "stdout",
     "output_type": "stream",
     "text": [
      "{0: 0, 2: 4, 4: 16, 6: 36, 8: 64}\n"
     ]
    }
   ],
   "source": [
    "## Conditional dictionary comprehension\n",
    "\n",
    "even_squares={x:x**2 for x in range(10) if x%2==0}\n",
    "print(even_squares)"
   ]
  },
  {
   "cell_type": "code",
   "execution_count": null,
   "id": "2f954ef1",
   "metadata": {},
   "outputs": [
    {
     "name": "stdout",
     "output_type": "stream",
     "text": [
      "{1: 1, 2: 3, 3: 3, 4: 3, 5: 4, 6: 3}\n"
     ]
    }
   ],
   "source": [
    "## Practical Examples\n",
    "## Use a dictionary to count the frequency of elements in list\n",
    "\n",
    "numbers =[1,2,2,3,3,4,5,6,6,5,4,6,2,5,3,5,4]\n",
    "\n",
    "frequency ={}\n",
    "\n",
    "for number in numbers:\n",
    "    if number in frequency:\n",
    "        frequency[number]+=1\n",
    "    else:\n",
    "        frequency[number]=1\n",
    "print(frequency)    "
   ]
  },
  {
   "cell_type": "code",
   "execution_count": 6,
   "id": "eca02424",
   "metadata": {},
   "outputs": [
    {
     "name": "stdout",
     "output_type": "stream",
     "text": [
      "{'a': 1, 'b': 2, 'c': 3, 'd': 4}\n"
     ]
    }
   ],
   "source": [
    "## merge 2 dictionaries in a row\n",
    "\n",
    "dict1 = {\"a\":1,\"b\":2}\n",
    "dict2 = {\"c\":3,\"d\":4}\n",
    "merge_dict={**dict1,**dict2}\n",
    "print(merge_dict)"
   ]
  },
  {
   "cell_type": "code",
   "execution_count": null,
   "id": "70e37c1e",
   "metadata": {},
   "outputs": [],
   "source": []
  }
 ],
 "metadata": {
  "kernelspec": {
   "display_name": "Python 3",
   "language": "python",
   "name": "python3"
  },
  "language_info": {
   "codemirror_mode": {
    "name": "ipython",
    "version": 3
   },
   "file_extension": ".py",
   "mimetype": "text/x-python",
   "name": "python",
   "nbconvert_exporter": "python",
   "pygments_lexer": "ipython3",
   "version": "3.12.0"
  }
 },
 "nbformat": 4,
 "nbformat_minor": 5
}
