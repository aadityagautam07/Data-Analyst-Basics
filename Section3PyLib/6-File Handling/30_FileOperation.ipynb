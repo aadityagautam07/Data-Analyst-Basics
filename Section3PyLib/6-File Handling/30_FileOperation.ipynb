{
 "cells": [
  {
   "cell_type": "code",
   "execution_count": 3,
   "id": "e1b577db",
   "metadata": {},
   "outputs": [
    {
     "name": "stdout",
     "output_type": "stream",
     "text": [
      "Hello world \n",
      "this is new line \n",
      "\n"
     ]
    }
   ],
   "source": [
    "## Read a Whole File\n",
    "\n",
    "with open('30example.txt','r') as file:\n",
    "    content=file.read()\n",
    "    print(content)"
   ]
  },
  {
   "cell_type": "code",
   "execution_count": 4,
   "id": "06b767de",
   "metadata": {},
   "outputs": [
    {
     "name": "stdout",
     "output_type": "stream",
     "text": [
      "Hello world\n",
      "this is new line\n"
     ]
    }
   ],
   "source": [
    "## Read a file line by line\n",
    "\n",
    "with open('30example.txt','r')as file:\n",
    "    for line in file:\n",
    "        print(line.strip())  ## strip() removes the new line character"
   ]
  },
  {
   "cell_type": "code",
   "execution_count": 8,
   "id": "b059e460",
   "metadata": {},
   "outputs": [],
   "source": [
    "## Writing a file(Overwriting)\n",
    "\n",
    "with open('30example.txt','w') as file:\n",
    "    file.write(\"Hello World!\\n\")\n",
    "    file.write('Thius is  a new line')"
   ]
  },
  {
   "cell_type": "code",
   "execution_count": 11,
   "id": "adb9ad71",
   "metadata": {},
   "outputs": [],
   "source": [
    "## Write a file(Without Overwriting)\n",
    "\n",
    "with open('30example.txt',mode='a') as file:\n",
    "    file.write(\"\\nAppend operation is executed here!\\n\")\n"
   ]
  },
  {
   "cell_type": "code",
   "execution_count": 10,
   "id": "0c5f168d",
   "metadata": {},
   "outputs": [],
   "source": [
    "## Writing a list of lines to a file\n",
    "lines =['First line \\n','Second Line \\n','Third line \\n']\n",
    "with open('30example.txt', 'a')as file:\n",
    "    file.writelines(lines)"
   ]
  },
  {
   "cell_type": "code",
   "execution_count": 13,
   "id": "37766697",
   "metadata": {},
   "outputs": [],
   "source": [
    "##Binary Files\n",
    "\n",
    "# Writing to a binary files\n",
    "\n",
    "data = b'\\x00\\x01\\x02\\x03\\x04'\n",
    "with open('30example.bin','wb') as file:\n",
    "    file.write(data)"
   ]
  },
  {
   "cell_type": "code",
   "execution_count": 14,
   "id": "22dfc2a1",
   "metadata": {},
   "outputs": [
    {
     "name": "stdout",
     "output_type": "stream",
     "text": [
      "b'\\x00\\x01\\x02\\x03\\x04'\n"
     ]
    }
   ],
   "source": [
    "# Reading a binary file\n",
    "with open('30example.bin','rb') as file:\n",
    "    content =file.read()\n",
    "    print(content)"
   ]
  },
  {
   "cell_type": "code",
   "execution_count": 17,
   "id": "c1d13f1c",
   "metadata": {},
   "outputs": [],
   "source": [
    "### Read the content from a source text file and write to a destination text file\n",
    "# copying a file\n",
    "\n",
    "with open('30example.txt','r') as source_file:\n",
    "        content = source_file.read()\n",
    "        \n",
    "with open('30destination.txt','w')as destination_file:\n",
    "        destination_file.write(content)"
   ]
  },
  {
   "cell_type": "code",
   "execution_count": null,
   "id": "7125c11a",
   "metadata": {},
   "outputs": [],
   "source": [
    "## Read a text file and count the number of lines, words, and characters.\n",
    "\n"
   ]
  },
  {
   "cell_type": "code",
   "execution_count": 16,
   "id": "4f2d54fa",
   "metadata": {},
   "outputs": [
    {
     "name": "stdout",
     "output_type": "stream",
     "text": [
      "Hello world \n",
      "this is new line \n",
      "\n"
     ]
    }
   ],
   "source": [
    "## Writing and then reading a file\n",
    "\n",
    "with open('30example.txt','w+') as file:\n",
    "    file.write(\"Hello world \\n\")\n",
    "    file.write(\"this is new line \\n\")\n",
    "\n",
    "    ## Move the file cursor to the beginning\n",
    "    file.seek(0)\n",
    "\n",
    "    ## Read the content of the file\n",
    "    content=file.read()\n",
    "    print(content)"
   ]
  },
  {
   "cell_type": "code",
   "execution_count": null,
   "id": "06f68b2c",
   "metadata": {},
   "outputs": [],
   "source": []
  }
 ],
 "metadata": {
  "kernelspec": {
   "display_name": "Python 3",
   "language": "python",
   "name": "python3"
  },
  "language_info": {
   "codemirror_mode": {
    "name": "ipython",
    "version": 3
   },
   "file_extension": ".py",
   "mimetype": "text/x-python",
   "name": "python",
   "nbconvert_exporter": "python",
   "pygments_lexer": "ipython3",
   "version": "3.12.0"
  }
 },
 "nbformat": 4,
 "nbformat_minor": 5
}
