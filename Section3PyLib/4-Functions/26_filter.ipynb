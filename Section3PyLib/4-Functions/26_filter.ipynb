{
 "cells": [
  {
   "cell_type": "markdown",
   "id": "96128efc",
   "metadata": {},
   "source": [
    "### The filter() function in python\n",
    "\n",
    "The filter() function constructs an iterator from elements of an iterable for which a function returns true. it is used to filter out items from a list (or any other iterable) based on a condition."
   ]
  },
  {
   "cell_type": "code",
   "execution_count": 6,
   "id": "5b93695d",
   "metadata": {},
   "outputs": [
    {
     "data": {
      "text/plain": [
       "True"
      ]
     },
     "execution_count": 6,
     "metadata": {},
     "output_type": "execute_result"
    }
   ],
   "source": [
    "def even(num):\n",
    "    if num%2==0:\n",
    "        return True\n",
    "\n",
    "even(32)"
   ]
  },
  {
   "cell_type": "code",
   "execution_count": 8,
   "id": "19e540ce",
   "metadata": {},
   "outputs": [
    {
     "data": {
      "text/plain": [
       "[2, 4, 6, 8, 10, 12, 14]"
      ]
     },
     "execution_count": 8,
     "metadata": {},
     "output_type": "execute_result"
    }
   ],
   "source": [
    "lst = [1,2,3,4,5,6,7,8,9,10,11,12,13,14]\n",
    "\n",
    "list(filter(even,lst))"
   ]
  },
  {
   "cell_type": "code",
   "execution_count": 11,
   "id": "1393091a",
   "metadata": {},
   "outputs": [
    {
     "name": "stdout",
     "output_type": "stream",
     "text": [
      "[6, 7, 8, 9]\n"
     ]
    }
   ],
   "source": [
    "## filter with a lambda function \n",
    "\n",
    "numbers =[1,2,3,4,5,6,7,8,9]\n",
    "\n",
    "greater_than_five = list(filter(lambda x: x>5,numbers))\n",
    "print(greater_than_five)"
   ]
  },
  {
   "cell_type": "code",
   "execution_count": 12,
   "id": "c4bade84",
   "metadata": {},
   "outputs": [
    {
     "name": "stdout",
     "output_type": "stream",
     "text": [
      "[6, 8]\n"
     ]
    }
   ],
   "source": [
    "## filter with a lambda function and multiple condition\n",
    "\n",
    "even_greater_than_five = list(filter(lambda x:x>5 and x%2==0,numbers))\n",
    "print(even_greater_than_five)"
   ]
  },
  {
   "cell_type": "code",
   "execution_count": 4,
   "id": "ae10947d",
   "metadata": {},
   "outputs": [
    {
     "name": "stdout",
     "output_type": "stream",
     "text": [
      "[{'name': 'Aadi', 'age': 33}, {'name': 'gautam', 'age': 35}]\n"
     ]
    }
   ],
   "source": [
    "## filter () to check if the age is greater than 25 in dictionaries\n",
    "\n",
    "people=[\n",
    "    {\"name\":\"Aadi\",\"age\":33},\n",
    "    {\"name\":\"Shiv\",\"age\":24},\n",
    "    {\"name\":\"gautam\",\"age\":35}\n",
    "]\n",
    "\n",
    "def age_greater_than_25(person):\n",
    "    return person['age']>25\n",
    "print(list(filter(age_greater_than_25,people)))"
   ]
  },
  {
   "cell_type": "code",
   "execution_count": null,
   "id": "8483f706",
   "metadata": {},
   "outputs": [],
   "source": []
  }
 ],
 "metadata": {
  "kernelspec": {
   "display_name": "Python 3",
   "language": "python",
   "name": "python3"
  },
  "language_info": {
   "codemirror_mode": {
    "name": "ipython",
    "version": 3
   },
   "file_extension": ".py",
   "mimetype": "text/x-python",
   "name": "python",
   "nbconvert_exporter": "python",
   "pygments_lexer": "ipython3",
   "version": "3.12.0"
  }
 },
 "nbformat": 4,
 "nbformat_minor": 5
}
