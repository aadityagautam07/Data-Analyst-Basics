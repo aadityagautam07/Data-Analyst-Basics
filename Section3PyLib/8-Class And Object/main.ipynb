{
 "cells": [
  {
   "cell_type": "markdown",
   "id": "2de677dc",
   "metadata": {},
   "source": [
    "### 1. P.O.O.P INTRO"
   ]
  },
  {
   "cell_type": "code",
   "execution_count": null,
   "id": "46ab6f94",
   "metadata": {},
   "outputs": [
    {
     "name": "stdout",
     "output_type": "stream",
     "text": [
      "<__main__.Car object at 0x0000025EBC42FA10>\n",
      "<__main__.Car object at 0x0000025EBC42F920>\n"
     ]
    },
    {
     "data": {
      "text/plain": [
       "'creta black 2023'"
      ]
     },
     "execution_count": 8,
     "metadata": {},
     "output_type": "execute_result"
    }
   ],
   "source": [
    "# object = a \"bundle\" of related attribute(variables) and methods(functions)\n",
    "#         Ex. phone, cup, book\n",
    "#         You need a \"class\" to create many objects\n",
    "    \n",
    "# class = (blueprint) used to design the structure and a layout of an object\n",
    "\n",
    "# self = refers to the current object we're working with.\n",
    "\n",
    "\n",
    "class Car:\n",
    "    def __init__(self,model,color,year,for_sale):\n",
    "        self.model = model\n",
    "        self.color = color\n",
    "        self.year = year\n",
    "        self.for_sale = for_sale\n",
    "        print(self)\n",
    "\n",
    "    def drive(self):\n",
    "        print(f\"Your car {self.color} {self.model} is running\")\n",
    "    def stop(self):\n",
    "        print(f\"You stopped the  {self.color} {self.model}\")\n",
    "\n",
    "    def describe(self):\n",
    "        return f\"{self.model} {self.color} {self.year}\"\n",
    "\n",
    "car1 = Car('creta','black',2023,True)\n",
    "car2 = Car('swift','blue',2016,False)\n",
    "\n",
    "\n",
    "car1.describe()"
   ]
  },
  {
   "cell_type": "markdown",
   "id": "a20a5dc5",
   "metadata": {},
   "source": [
    "### 2. Class Variables"
   ]
  },
  {
   "cell_type": "code",
   "execution_count": 18,
   "id": "db4a8013",
   "metadata": {},
   "outputs": [
    {
     "name": "stdout",
     "output_type": "stream",
     "text": [
      "My Graduating Class of 2024 has 4 dumb fcuk studs\n",
      "Ram\n",
      "shree\n",
      "pranay\n",
      "dinesh\n"
     ]
    }
   ],
   "source": [
    "# class variables = shared among alkl instances of a class\n",
    "#                     defined outside the constructor\n",
    "#                     allow you to share data among all objects created from the class\n",
    "\n",
    "class Student:\n",
    "    # These are class variables\n",
    "    num_students = 0\n",
    "    class_session = 2024\n",
    "\n",
    "    def __init__(self,name,age):\n",
    "        # Below both are instance variables\n",
    "        self.name = name\n",
    "        self.age = age\n",
    "\n",
    "        # No self used because it's a class variable doesn't depend on objects\n",
    "        Student.num_students +=1\n",
    "\n",
    "student1 = Student(\"Ram\",30)\n",
    "student2 = Student(\"shree\",32)\n",
    "student3 = Student(\"pranay\",29)\n",
    "student4 = Student(\"dinesh\",25)\n",
    "\n",
    "# Below are the class variables can be accessed directly from class name\n",
    "print(f\"My Graduating Class of {Student.class_session} has {Student.num_students} dumb fcuk studs\")\n",
    "\n",
    "#Below are the instance variables\n",
    "print(student1.name)\n",
    "print(student2.name)\n",
    "print(student3.name)\n",
    "print(student4.name)"
   ]
  },
  {
   "cell_type": "markdown",
   "id": "a5952f28",
   "metadata": {},
   "source": [
    "### 3. Inheritance"
   ]
  },
  {
   "cell_type": "code",
   "execution_count": 26,
   "id": "5ec88c1f",
   "metadata": {},
   "outputs": [
    {
     "name": "stdout",
     "output_type": "stream",
     "text": [
      "My animal name is shree and he is alive True and he barks like Wooooowwww!!!!\n"
     ]
    }
   ],
   "source": [
    "# Inheritance = allows a class to inherit  attribute and methods from another class \n",
    "#                 helps with code reusability and extensibility\n",
    "#                 class Child(Parent) or subclass(Superclass)\n",
    "\n",
    "class Animal:\n",
    "    def __init__(self,name):\n",
    "        self.name = name\n",
    "        self.isalive = True\n",
    "    \n",
    "    def eat(self):\n",
    "        print(f\"{self.name} is eating\")\n",
    "\n",
    "    def sleep(self):\n",
    "        print(f\"{self.name} is sleeping\")\n",
    "\n",
    "class Dog(Animal):\n",
    "    def speak(self):\n",
    "        return f\"Wooooowwww!!!!\"\n",
    "\n",
    "class Cat(Animal):\n",
    "    def speak(self):\n",
    "        print(\"Meoooowww!!!\")\n",
    "\n",
    "class Mouse(Animal):\n",
    "    def speak(self):\n",
    "        print(\"squeak\")\n",
    "\n",
    "kutta = Dog(\"shree\")\n",
    "billi = Cat(\"purvesh\")\n",
    "chuha = Mouse(\"bhavesh\")\n",
    "\n",
    "print(f\"My animal name is {kutta.name} and he is alive {kutta.isalive} and he barks like {kutta.speak()}\")"
   ]
  },
  {
   "cell_type": "markdown",
   "id": "2cd9e3cf",
   "metadata": {},
   "source": [
    "### 4. Multiple and Multilevel Inheritance"
   ]
  },
  {
   "cell_type": "code",
   "execution_count": 5,
   "id": "137323bb",
   "metadata": {},
   "outputs": [
    {
     "name": "stdout",
     "output_type": "stream",
     "text": [
      "Bazigar is hunting\n",
      "paplet ran away\n",
      "paplet is hunting\n"
     ]
    }
   ],
   "source": [
    "# # Multiple Inheritance = inherit from more than 1 p[arent class \n",
    "#                             C(A , B)\n",
    "# # Multilevel Inheritance = inherit from a parent which inherits from another parent\n",
    "#                             C(B) <- B(A) <- A\n",
    "\n",
    "class Animal:\n",
    "    def __init__(self, name):\n",
    "        self.name = name\n",
    "\n",
    "    def eat(self):\n",
    "        print(f\"{self.name} is eating\")\n",
    "\n",
    "    def sleep(self):\n",
    "        print(f\"{self.name} is sleeping\")\n",
    "\n",
    "class Predator(Animal):\n",
    "    def hunt(self):\n",
    "        print(f\"{self.name} is hunting\")\n",
    "\n",
    "class Prey(Animal):\n",
    "    def fled(self):\n",
    "        print(f\"{self.name} ran away\")\n",
    "        \n",
    "class Hawk(Predator):\n",
    "    pass\n",
    "\n",
    "class Cock(Prey):\n",
    "    pass\n",
    "\n",
    "# Multiple Inheritance\n",
    "class Fish(Predator, Prey):\n",
    "    pass\n",
    "\n",
    "hawk = Hawk(\"Bazigar\")\n",
    "fish = Fish(\"paplet\")\n",
    "\n",
    "hawk.hunt()\n",
    "fish.fled()\n",
    "fish.hunt()"
   ]
  },
  {
   "cell_type": "markdown",
   "id": "bd473ac0",
   "metadata": {},
   "source": [
    "### 5. Abstract Class"
   ]
  },
  {
   "cell_type": "code",
   "execution_count": null,
   "id": "9601d635",
   "metadata": {},
   "outputs": [
    {
     "name": "stdout",
     "output_type": "stream",
     "text": [
      "They Drive skoda the car \n"
     ]
    }
   ],
   "source": [
    "# Abstract class = A class that cannot be instantiated on its own, meant to be subclassed\n",
    "#                     they can contain abstract mrthods, which are declared but have no implementation\n",
    "#                     Abstract class benefits:\n",
    "#                     1). Prevents Instantiation of the class itself\n",
    "#                     2). Requires children to use inherited abstract methods\n",
    "\n",
    "from abc import ABC, abstractmethod\n",
    "\n",
    "class Vehicle(ABC):\n",
    "\n",
    "    def __init__(self,name):\n",
    "        self.name = name\n",
    "\n",
    "    @abstractmethod\n",
    "    def go(self):\n",
    "        pass\n",
    "    \n",
    "    @abstractmethod\n",
    "    def stop(self):\n",
    "        pass\n",
    "\n",
    "class Car(Vehicle):\n",
    "    def go(self):\n",
    "        print(f\"They Drive {car1.name} the car \")\n",
    "    def stop(self):\n",
    "        print(f\"The Stop the car\")\n",
    "\n",
    "class Motor(Vehicle):\n",
    "    def go(self):\n",
    "        print(f\"They ride the Motorcycle \")\n",
    "    def stop(self):\n",
    "        print(f\"They stop the Motorcycle\")\n",
    "\n",
    "class Boat(Vehicle):\n",
    "    def go(self):\n",
    "        print(f\"They sail the Boat \")\n",
    "    def stop(self):\n",
    "        print(f\"They Boat Stop sailing\")\n",
    "\n",
    "car1 = Car(\"skoda\")\n",
    "car1.go()"
   ]
  },
  {
   "cell_type": "markdown",
   "id": "2f4844d9",
   "metadata": {},
   "source": [
    "### 6. Super()"
   ]
  },
  {
   "cell_type": "code",
   "execution_count": null,
   "id": "d4bb9c45",
   "metadata": {},
   "outputs": [
    {
     "name": "stdout",
     "output_type": "stream",
     "text": [
      "It is red and filled\n",
      "It is a triangle with an area of 28.0cm^2\n"
     ]
    }
   ],
   "source": [
    "class Shape:\n",
    "    def __init__(self,color,is_filled):\n",
    "        self.color = color\n",
    "        self.is_filled = is_filled\n",
    "\n",
    "    def describe(self):\n",
    "        print(f\"It is {self.color} and {'filled' if self.is_filled else 'not filled'}\")\n",
    "\n",
    "class Circle(Shape):\n",
    "    def __init__(self,color,is_filled,radius):\n",
    "        super().__init__(color,is_filled)\n",
    "        self.radius = radius\n",
    "\n",
    "    def describe(self):\n",
    "        print(f\"It is a Circle with an area of {3.14* self.radius **2}cm^2\")\n",
    "\n",
    "class Square(Shape):\n",
    "    def __init__(self, color, is_filled, side):\n",
    "        super().__init__(color, is_filled)\n",
    "        self.side = side\n",
    "\n",
    "    def describe(self):\n",
    "        print(f\"It is a square with an area of {self.side **2}cm^2\")\n",
    "\n",
    "class Triangle(Shape):\n",
    "    def __init__(self, color, is_filled, width, height):\n",
    "        super().__init__(color, is_filled)\n",
    "        self.width = width\n",
    "        self.height = height\n",
    "\n",
    "    def describe(self):\n",
    "        super().describe()\n",
    "        print(f\"It is a triangle with an area of {(self.width * self.height) * 0.5}cm^2\")\n",
    "\n",
    "triangle = Triangle(\"red\", is_filled=True, width=7, height=8)\n",
    "triangle.describe()\n"
   ]
  },
  {
   "cell_type": "code",
   "execution_count": null,
   "id": "ab1984de",
   "metadata": {},
   "outputs": [],
   "source": []
  }
 ],
 "metadata": {
  "kernelspec": {
   "display_name": "Python 3",
   "language": "python",
   "name": "python3"
  },
  "language_info": {
   "codemirror_mode": {
    "name": "ipython",
    "version": 3
   },
   "file_extension": ".py",
   "mimetype": "text/x-python",
   "name": "python",
   "nbconvert_exporter": "python",
   "pygments_lexer": "ipython3",
   "version": "3.12.0"
  }
 },
 "nbformat": 4,
 "nbformat_minor": 5
}
