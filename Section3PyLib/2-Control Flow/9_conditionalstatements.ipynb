{
 "cells": [
  {
   "cell_type": "code",
   "execution_count": 1,
   "metadata": {},
   "outputs": [
    {
     "name": "stdout",
     "output_type": "stream",
     "text": [
      "you are allowed to vote in the election\n"
     ]
    }
   ],
   "source": [
    "## if statement\n",
    "\n",
    "age  =20\n",
    "if age >= 20:\n",
    "    print(\"you are allowed to vote in the election\")"
   ]
  },
  {
   "cell_type": "code",
   "execution_count": 2,
   "metadata": {},
   "outputs": [
    {
     "name": "stdout",
     "output_type": "stream",
     "text": [
      "you are a minor\n"
     ]
    }
   ],
   "source": [
    "## else statement\n",
    "\n",
    "age = 16\n",
    "if age >=18:\n",
    "    print(\"you are eligible for voting\")\n",
    "else:\n",
    "    print(\"you are a minor\")"
   ]
  },
  {
   "cell_type": "code",
   "execution_count": 6,
   "metadata": {},
   "outputs": [
    {
     "name": "stdout",
     "output_type": "stream",
     "text": [
      "you are a teenager\n"
     ]
    }
   ],
   "source": [
    "## elif\n",
    "\n",
    "age = 17\n",
    "\n",
    "if age<13:\n",
    "    print(\"you are a child\")\n",
    "elif age<18:\n",
    "    print(\"you are a teenager\")\n",
    "else:\n",
    "    print(\"you are a adult\")"
   ]
  },
  {
   "cell_type": "code",
   "execution_count": 9,
   "metadata": {},
   "outputs": [
    {
     "name": "stdout",
     "output_type": "stream",
     "text": [
      "Number is zero or negative?\n"
     ]
    }
   ],
   "source": [
    "## Nested Conditional Statements\n",
    "\n",
    "num = int(input(\"Enter the Number: \"))\n",
    "\n",
    "if num > 0:\n",
    "    print(\"The number is positive\")\n",
    "    if num%2==0:\n",
    "        print(\"Number is Even\")\n",
    "    else:\n",
    "        print(\"Number is Odd\")\n",
    "else:\n",
    "    print(\"Number is zero or negative?\")"
   ]
  },
  {
   "cell_type": "markdown",
   "metadata": {},
   "source": [
    "## practical Example\n",
    "\n",
    "Q. Determine if a year a leap year using nested condition statement\n"
   ]
  },
  {
   "cell_type": "code",
   "execution_count": 10,
   "metadata": {},
   "outputs": [
    {
     "name": "stdout",
     "output_type": "stream",
     "text": [
      "2001 Not a leap year\n"
     ]
    }
   ],
   "source": [
    "year = int(input(\"Enter the Year: \"))\n",
    "\n",
    "if year%4 == 0:\n",
    "    if year%100 == 0:\n",
    "        if year%400 == 0:\n",
    "            print(year,\"it is a leap year\")\n",
    "        else:\n",
    "            print(year,\"Not a leap year\")\n",
    "    else:\n",
    "        print(year,\"Not a leap year\")\n",
    "else:\n",
    "    print(year,\"Not a leap year\")\n",
    "   "
   ]
  },
  {
   "cell_type": "markdown",
   "metadata": {},
   "source": [
    "## ASSIGMENT\n",
    "Q. Simple Calculator program using conditional statement"
   ]
  },
  {
   "cell_type": "code",
   "execution_count": 13,
   "metadata": {},
   "outputs": [
    {
     "name": "stdout",
     "output_type": "stream",
     "text": [
      "Result :  22\n"
     ]
    }
   ],
   "source": [
    "num1 = int(input(\"Enter number 1: \"))\n",
    "num2 = int(input(\"Enter Number 2: \"))\n",
    "opeartion = input(\"Enter the opeation (eg. +,-,*,/,%,**): \")\n",
    "\n",
    "if opeartion == \"+\":\n",
    "    print(\"Result : \",num1 + num2)\n",
    "elif opeartion == \"-\":\n",
    "    print(\"Result : \",num1 - num2)\n",
    "elif opeartion == \"*\":\n",
    "    print(\"Result : \",num1 * num2)\n",
    "elif opeartion == \"/\":\n",
    "    if num2 != 0:\n",
    "        print(\"Result : \",num1 / num2)\n",
    "    else:\n",
    "        print(\"Error Division by 0\")\n",
    "elif opeartion == \"%\":\n",
    "    print(\"Result : \",num1 % num2)\n",
    "elif opeartion == \"**\":\n",
    "    print(\"Result : \",num1 ** num2)\n",
    "else:\n",
    "    print(\"Invalid Operation\")\n"
   ]
  },
  {
   "cell_type": "markdown",
   "metadata": {},
   "source": [
    "Q. Determine the ticket price based on age and whether the person is a student."
   ]
  },
  {
   "cell_type": "code",
   "execution_count": 27,
   "metadata": {},
   "outputs": [
    {
     "name": "stdout",
     "output_type": "stream",
     "text": [
      "*No Discounts for 38 > age\n",
      "Ticket Price of age 38 is : $20\n",
      "Are you Student? :  Yes\n"
     ]
    }
   ],
   "source": [
    "age  = int(input(\"Enter the age : \"))\n",
    "is_student = input(\"Are you a stuent (yes/no)\").lower().capitalize()\n",
    "\n",
    "if age < 8:\n",
    "    if is_student == 'yes'or'Yes':\n",
    "        price = \"free\"\n",
    "    else:\n",
    "        price = '$2'\n",
    "elif age < 15:\n",
    "    if is_student == 'yes'or'Yes':\n",
    "        price = '$4'\n",
    "    else:\n",
    "        price = '$5'\n",
    "elif age < 35:\n",
    "    if is_student == 'yes'or'Yes':\n",
    "        price = '$10'\n",
    "    else:\n",
    "        price = '$15'\n",
    "elif is_student == 'yes'or'Yes':\n",
    "    if age >35:\n",
    "        print('*No Discounts for',age,'> age')\n",
    "else:\n",
    "    price = '$20' \n",
    "\n",
    "print ('Ticket Price of age', age,'is :', price)\n",
    "print('Are you Student? : ', is_student)\n",
    "\n"
   ]
  },
  {
   "cell_type": "code",
   "execution_count": null,
   "metadata": {},
   "outputs": [],
   "source": []
  },
  {
   "cell_type": "code",
   "execution_count": null,
   "metadata": {},
   "outputs": [],
   "source": []
  }
 ],
 "metadata": {
  "kernelspec": {
   "display_name": "Python 3",
   "language": "python",
   "name": "python3"
  },
  "language_info": {
   "codemirror_mode": {
    "name": "ipython",
    "version": 3
   },
   "file_extension": ".py",
   "mimetype": "text/x-python",
   "name": "python",
   "nbconvert_exporter": "python",
   "pygments_lexer": "ipython3",
   "version": "3.12.0"
  }
 },
 "nbformat": 4,
 "nbformat_minor": 2
}
